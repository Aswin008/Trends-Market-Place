{
 "cells": [
  {
   "cell_type": "code",
   "execution_count": 0,
   "metadata": {
    "application/vnd.databricks.v1+cell": {
     "cellMetadata": {
      "byteLimit": 2048000,
      "rowLimit": 10000
     },
     "inputWidgets": {},
     "nuid": "3664bd34-9cc7-4e28-8c8f-485833e93657",
     "showTitle": false,
     "title": ""
    }
   },
   "outputs": [],
   "source": [
    "import json\n",
    "import random\n",
    "from datetime import datetime\n",
    "import sys\n",
    "import time\n",
    "import hashlib"
   ]
  },
  {
   "cell_type": "code",
   "execution_count": 0,
   "metadata": {
    "application/vnd.databricks.v1+cell": {
     "cellMetadata": {
      "byteLimit": 2048000,
      "rowLimit": 10000
     },
     "inputWidgets": {},
     "nuid": "51a5ca9e-de75-4c19-a986-77b2f8371d12",
     "showTitle": false,
     "title": ""
    }
   },
   "outputs": [],
   "source": [
    "RECORDS = 1000"
   ]
  },
  {
   "cell_type": "code",
   "execution_count": 0,
   "metadata": {
    "application/vnd.databricks.v1+cell": {
     "cellMetadata": {
      "byteLimit": 2048000,
      "rowLimit": 10000
     },
     "inputWidgets": {},
     "nuid": "ae3244a2-068a-44b6-9c82-a18deb3a56f8",
     "showTitle": false,
     "title": ""
    }
   },
   "outputs": [],
   "source": [
    "MAX_SECONDS_BETWEEN_EVENTS = 1"
   ]
  },
  {
   "cell_type": "code",
   "execution_count": 0,
   "metadata": {
    "application/vnd.databricks.v1+cell": {
     "cellMetadata": {
      "byteLimit": 2048000,
      "rowLimit": 10000
     },
     "inputWidgets": {},
     "nuid": "8f059715-a5ce-4b79-937e-c19d0e37f6a8",
     "showTitle": false,
     "title": ""
    }
   },
   "outputs": [],
   "source": [
    "def get_event_id():\n",
    "    hashed = hashlib.md5(datetime.now().strftime(\"%m/%d/%YT%H:%M:%S.%f\").encode())\n",
    "    return hashed.hexdigest()"
   ]
  },
  {
   "cell_type": "code",
   "execution_count": 0,
   "metadata": {
    "application/vnd.databricks.v1+cell": {
     "cellMetadata": {
      "byteLimit": 2048000,
      "rowLimit": 10000
     },
     "inputWidgets": {},
     "nuid": "d1901a7d-2860-407c-b2b9-4886f517dc61",
     "showTitle": false,
     "title": ""
    }
   },
   "outputs": [],
   "source": [
    "def get_event():\n",
    "    events = [\"purchased_item\", \"liked_item\", \"reviewd_item\", \"entered_payment_method\", \"clicked_review\", \"clicked_item_description\"]\n",
    "    return random.choice(events)"
   ]
  },
  {
   "cell_type": "code",
   "execution_count": 0,
   "metadata": {
    "application/vnd.databricks.v1+cell": {
     "cellMetadata": {
      "byteLimit": 2048000,
      "rowLimit": 10000
     },
     "inputWidgets": {},
     "nuid": "3610c29f-1a2b-4c74-8647-104918cf2aa2",
     "showTitle": false,
     "title": ""
    }
   },
   "outputs": [],
   "source": [
    "def get_user_id():\n",
    "    MAX_USER_ID = 100\n",
    "    return random.randint(1,MAX_USER_ID)"
   ]
  },
  {
   "cell_type": "code",
   "execution_count": 0,
   "metadata": {
    "application/vnd.databricks.v1+cell": {
     "cellMetadata": {
      "byteLimit": 2048000,
      "rowLimit": 10000
     },
     "inputWidgets": {},
     "nuid": "23b77445-3d64-4905-9f1d-0496c66fc697",
     "showTitle": false,
     "title": ""
    }
   },
   "outputs": [],
   "source": [
    "def get_event_time():\n",
    "    return datetime.now().strftime(\"%m/%d/%YT%H:%M:%S.%f\")"
   ]
  },
  {
   "cell_type": "code",
   "execution_count": 0,
   "metadata": {
    "application/vnd.databricks.v1+cell": {
     "cellMetadata": {
      "byteLimit": 2048000,
      "rowLimit": 10000
     },
     "inputWidgets": {},
     "nuid": "617c038b-08a4-4dec-9646-ed67c8df156c",
     "showTitle": false,
     "title": ""
    }
   },
   "outputs": [],
   "source": [
    "def get_os():\n",
    "    os = [\"ios\", \"android\", \"web\"]\n",
    "    return random.choice(os)"
   ]
  },
  {
   "cell_type": "code",
   "execution_count": 0,
   "metadata": {
    "application/vnd.databricks.v1+cell": {
     "cellMetadata": {
      "byteLimit": 2048000,
      "rowLimit": 10000
     },
     "inputWidgets": {},
     "nuid": "41bbcc14-f5db-45a6-91a3-e8531d4d9a6c",
     "showTitle": false,
     "title": ""
    }
   },
   "outputs": [],
   "source": [
    "def get_page():\n",
    "    pages = [\"/apparal/\", '/food/', \"/electronics/\", \"/home/\", \"/books/\"]\n",
    "    return random.choice(pages)"
   ]
  },
  {
   "cell_type": "code",
   "execution_count": 0,
   "metadata": {
    "application/vnd.databricks.v1+cell": {
     "cellMetadata": {
      "byteLimit": 2048000,
      "rowLimit": 10000
     },
     "inputWidgets": {},
     "nuid": "d82f6b4a-123b-4cf7-a981-f7a324ebf8c9",
     "showTitle": false,
     "title": ""
    }
   },
   "outputs": [
    {
     "output_type": "stream",
     "name": "stdout",
     "output_type": "stream",
     "text": [
      "Out[13]: 0.866858387316638"
     ]
    }
   ],
   "source": [
    "random.uniform(0,MAX_SECONDS_BETWEEN_EVENTS)"
   ]
  },
  {
   "cell_type": "code",
   "execution_count": 0,
   "metadata": {
    "application/vnd.databricks.v1+cell": {
     "cellMetadata": {
      "byteLimit": 2048000,
      "rowLimit": 10000
     },
     "inputWidgets": {},
     "nuid": "408b5901-1e90-4d9e-91c6-4394da8d7f90",
     "showTitle": false,
     "title": ""
    }
   },
   "outputs": [],
   "source": [
    "event_hub_namespace = \"testhubevent\"\n",
    "event_hub_name = \"newdemo\"\n",
    "sas_key_name = \"policytest\"\n",
    "sas_key_value = \"70KNK1XVlptpQ0eUUW5neKPFkCMBkDC42+AEhKdrTt8=\""
   ]
  },
  {
   "cell_type": "code",
   "execution_count": 0,
   "metadata": {
    "application/vnd.databricks.v1+cell": {
     "cellMetadata": {
      "byteLimit": 2048000,
      "rowLimit": 10000
     },
     "collapsed": true,
     "inputWidgets": {},
     "nuid": "4b38f9d4-062f-48eb-b1ae-4d7227522ef8",
     "showTitle": false,
     "title": ""
    }
   },
   "outputs": [
    {
     "output_type": "stream",
     "name": "stdout",
     "output_type": "stream",
     "text": [
      "Python interpreter will be restarted.\nCollecting azure.eventhub\n  Downloading azure_eventhub-5.11.5-py3-none-any.whl (315 kB)\nCollecting azure-core<2.0.0,>=1.14.0\n  Downloading azure_core-1.29.5-py3-none-any.whl (192 kB)\nRequirement already satisfied: typing-extensions>=4.0.1 in /databricks/python3/lib/python3.9/site-packages (from azure.eventhub) (4.1.1)\nRequirement already satisfied: six>=1.11.0 in /databricks/python3/lib/python3.9/site-packages (from azure-core<2.0.0,>=1.14.0->azure.eventhub) (1.16.0)\nRequirement already satisfied: requests>=2.18.4 in /databricks/python3/lib/python3.9/site-packages (from azure-core<2.0.0,>=1.14.0->azure.eventhub) (2.27.1)\nCollecting typing-extensions>=4.0.1\n  Downloading typing_extensions-4.8.0-py3-none-any.whl (31 kB)\nRequirement already satisfied: idna<4,>=2.5 in /databricks/python3/lib/python3.9/site-packages (from requests>=2.18.4->azure-core<2.0.0,>=1.14.0->azure.eventhub) (3.3)\nRequirement already satisfied: charset-normalizer~=2.0.0 in /databricks/python3/lib/python3.9/site-packages (from requests>=2.18.4->azure-core<2.0.0,>=1.14.0->azure.eventhub) (2.0.4)\nRequirement already satisfied: urllib3<1.27,>=1.21.1 in /databricks/python3/lib/python3.9/site-packages (from requests>=2.18.4->azure-core<2.0.0,>=1.14.0->azure.eventhub) (1.26.9)\nRequirement already satisfied: certifi>=2017.4.17 in /databricks/python3/lib/python3.9/site-packages (from requests>=2.18.4->azure-core<2.0.0,>=1.14.0->azure.eventhub) (2021.10.8)\nInstalling collected packages: typing-extensions, azure-core, azure.eventhub\n  Attempting uninstall: typing-extensions\n    Found existing installation: typing-extensions 4.1.1\n    Not uninstalling typing-extensions at /databricks/python3/lib/python3.9/site-packages, outside environment /local_disk0/.ephemeral_nfs/envs/pythonEnv-1a55404c-c821-46cd-8371-6f6b31bef6d2\n    Can't uninstall 'typing-extensions'. No files were found to uninstall.\nSuccessfully installed azure-core-1.29.5 azure.eventhub-5.11.5 typing-extensions-4.8.0\nPython interpreter will be restarted.\n"
     ]
    }
   ],
   "source": [
    "pip install azure.eventhub"
   ]
  },
  {
   "cell_type": "code",
   "execution_count": 0,
   "metadata": {
    "application/vnd.databricks.v1+cell": {
     "cellMetadata": {
      "byteLimit": 2048000,
      "rowLimit": 10000
     },
     "inputWidgets": {},
     "nuid": "55e4828b-9985-4220-8fd9-584b7d5a4a78",
     "showTitle": false,
     "title": ""
    }
   },
   "outputs": [],
   "source": [
    "from azure.eventhub import EventHubProducerClient, EventData\n",
    "\n",
    "event_hub_connection_string = 'Endpoint=sb://testhubevent.servicebus.windows.net/;SharedAccessKeyName=policytest;SharedAccessKey=70KNK1XVlptpQ0eUUW5neKPFkCMBkDC42+AEhKdrTt8=;EntityPath=newdemo'\n",
    "\n",
    "producer = EventHubProducerClient.from_connection_string(conn_str=event_hub_connection_string, eventhub_name=event_hub_name)\n"
   ]
  },
  {
   "cell_type": "code",
   "execution_count": 0,
   "metadata": {
    "application/vnd.databricks.v1+cell": {
     "cellMetadata": {
      "byteLimit": 2048000,
      "rowLimit": 10000
     },
     "inputWidgets": {},
     "nuid": "539a849a-0960-42ed-bc92-edd19d8a7acc",
     "showTitle": false,
     "title": ""
    }
   },
   "outputs": [
    {
     "output_type": "stream",
     "name": "stdout",
     "output_type": "stream",
     "text": [
      "{\"event_id\": \"6b976aeca56ef58e9f3c82fc80e8c533\", \"event\": \"entered_payment_method\", \"user_id\": 61, \"event_time\": \"11/26/2023T18:02:29.103922\", \"os\": \"android\", \"properties\": {\"page\": \"/home/\", \"url\": \"www.fakesite.com\"}}\n{\"event_id\": \"a1cc22c85eeac5d551d2ddc7b52c3031\", \"event\": \"entered_payment_method\", \"user_id\": 22, \"event_time\": \"11/26/2023T18:02:32.277456\", \"os\": \"web\", \"properties\": {\"page\": \"/apparal/\", \"url\": \"www.fakesite.com\"}}\n{\"event_id\": \"5ac496dbf4388670e403574a305e3bc2\", \"event\": \"liked_item\", \"user_id\": 11, \"event_time\": \"11/26/2023T18:02:32.461741\", \"os\": \"web\", \"properties\": {\"page\": \"/home/\", \"url\": \"www.fakesite.com\"}}\n{\"event_id\": \"f24ecf82a48864ae70e1f2fa03bdb597\", \"event\": \"clicked_review\", \"user_id\": 29, \"event_time\": \"11/26/2023T18:02:32.695979\", \"os\": \"ios\", \"properties\": {\"page\": \"/electronics/\", \"url\": \"www.fakesite.com\"}}\n{\"event_id\": \"b81ce4baf5d68970a6fbda4b2c13ae60\", \"event\": \"reviewd_item\", \"user_id\": 57, \"event_time\": \"11/26/2023T18:02:32.831698\", \"os\": \"android\", \"properties\": {\"page\": \"/apparal/\", \"url\": \"www.fakesite.com\"}}\n{\"event_id\": \"b6794bdb60b0c6298292260139bc4fbf\", \"event\": \"clicked_review\", \"user_id\": 63, \"event_time\": \"11/26/2023T18:02:33.854695\", \"os\": \"web\", \"properties\": {\"page\": \"/food/\", \"url\": \"www.fakesite.com\"}}\n{\"event_id\": \"252f8709c1eab205422ec533ae2f4927\", \"event\": \"liked_item\", \"user_id\": 3, \"event_time\": \"11/26/2023T18:02:34.659821\", \"os\": \"ios\", \"properties\": {\"page\": \"/apparal/\", \"url\": \"www.fakesite.com\"}}\n{\"event_id\": \"5364ef2d27802ccdebc2bc214f1d8507\", \"event\": \"reviewd_item\", \"user_id\": 4, \"event_time\": \"11/26/2023T18:02:35.678443\", \"os\": \"android\", \"properties\": {\"page\": \"/apparal/\", \"url\": \"www.fakesite.com\"}}\n{\"event_id\": \"78e80996e313d93d02bb092b009d66b7\", \"event\": \"purchased_item\", \"user_id\": 42, \"event_time\": \"11/26/2023T18:02:35.924908\", \"os\": \"android\", \"properties\": {\"page\": \"/apparal/\", \"url\": \"www.fakesite.com\"}}\n{\"event_id\": \"20d23994b43ff7af6647cba964b46955\", \"event\": \"purchased_item\", \"user_id\": 29, \"event_time\": \"11/26/2023T18:02:36.922314\", \"os\": \"ios\", \"properties\": {\"page\": \"/home/\", \"url\": \"www.fakesite.com\"}}\n{\"event_id\": \"c8ddd83949c9f068a9b3b180a2d727a0\", \"event\": \"reviewd_item\", \"user_id\": 18, \"event_time\": \"11/26/2023T18:02:37.574740\", \"os\": \"web\", \"properties\": {\"page\": \"/books/\", \"url\": \"www.fakesite.com\"}}\n{\"event_id\": \"0fabfd5118750f3f6aa94f57570b5953\", \"event\": \"clicked_review\", \"user_id\": 34, \"event_time\": \"11/26/2023T18:02:38.283572\", \"os\": \"ios\", \"properties\": {\"page\": \"/electronics/\", \"url\": \"www.fakesite.com\"}}\n{\"event_id\": \"49a9a945b47249f539678fd2bda64e7a\", \"event\": \"clicked_review\", \"user_id\": 72, \"event_time\": \"11/26/2023T18:02:39.261931\", \"os\": \"ios\", \"properties\": {\"page\": \"/books/\", \"url\": \"www.fakesite.com\"}}\n{\"event_id\": \"8555a13b878c70b19144fb43867367fb\", \"event\": \"liked_item\", \"user_id\": 27, \"event_time\": \"11/26/2023T18:02:40.091374\", \"os\": \"web\", \"properties\": {\"page\": \"/electronics/\", \"url\": \"www.fakesite.com\"}}\n{\"event_id\": \"7fb72eb9cdf6a87ff3ea4d106987c57d\", \"event\": \"clicked_review\", \"user_id\": 35, \"event_time\": \"11/26/2023T18:02:40.193108\", \"os\": \"android\", \"properties\": {\"page\": \"/electronics/\", \"url\": \"www.fakesite.com\"}}\n{\"event_id\": \"2e4174e1274fc3fb670f2b582b5004ca\", \"event\": \"liked_item\", \"user_id\": 39, \"event_time\": \"11/26/2023T18:02:40.446973\", \"os\": \"android\", \"properties\": {\"page\": \"/books/\", \"url\": \"www.fakesite.com\"}}\n{\"event_id\": \"b92d7bb2a988e4efc57621e2994c4281\", \"event\": \"clicked_review\", \"user_id\": 7, \"event_time\": \"11/26/2023T18:02:40.758746\", \"os\": \"web\", \"properties\": {\"page\": \"/home/\", \"url\": \"www.fakesite.com\"}}\n{\"event_id\": \"5b1f129853bc9c7d1909c2b96c034aeb\", \"event\": \"clicked_review\", \"user_id\": 14, \"event_time\": \"11/26/2023T18:02:41.601075\", \"os\": \"android\", \"properties\": {\"page\": \"/electronics/\", \"url\": \"www.fakesite.com\"}}\n{\"event_id\": \"4bed1432e4f62060445e02fa6e7155f9\", \"event\": \"clicked_review\", \"user_id\": 10, \"event_time\": \"11/26/2023T18:02:42.251930\", \"os\": \"ios\", \"properties\": {\"page\": \"/food/\", \"url\": \"www.fakesite.com\"}}\n{\"event_id\": \"fc6e96715148390e812d952cf3458e7d\", \"event\": \"clicked_item_description\", \"user_id\": 80, \"event_time\": \"11/26/2023T18:02:42.889612\", \"os\": \"android\", \"properties\": {\"page\": \"/books/\", \"url\": \"www.fakesite.com\"}}\n{\"event_id\": \"cae7f2b1425f92302211d24118e4ed20\", \"event\": \"liked_item\", \"user_id\": 24, \"event_time\": \"11/26/2023T18:02:43.855378\", \"os\": \"web\", \"properties\": {\"page\": \"/apparal/\", \"url\": \"www.fakesite.com\"}}\n{\"event_id\": \"7185672c30d54b6c80272c19618cdbe5\", \"event\": \"purchased_item\", \"user_id\": 19, \"event_time\": \"11/26/2023T18:02:44.140623\", \"os\": \"android\", \"properties\": {\"page\": \"/apparal/\", \"url\": \"www.fakesite.com\"}}\n{\"event_id\": \"08f60ac35ca1beb8d32d2f2cf2cd054a\", \"event\": \"purchased_item\", \"user_id\": 68, \"event_time\": \"11/26/2023T18:02:44.391649\", \"os\": \"web\", \"properties\": {\"page\": \"/food/\", \"url\": \"www.fakesite.com\"}}\n{\"event_id\": \"52dc382c6fcdcad75668a4676266c2ec\", \"event\": \"reviewd_item\", \"user_id\": 4, \"event_time\": \"11/26/2023T18:02:44.927804\", \"os\": \"web\", \"properties\": {\"page\": \"/electronics/\", \"url\": \"www.fakesite.com\"}}\n{\"event_id\": \"b971eec10782499f26e3d072edb328b4\", \"event\": \"clicked_review\", \"user_id\": 75, \"event_time\": \"11/26/2023T18:02:45.472470\", \"os\": \"android\", \"properties\": {\"page\": \"/electronics/\", \"url\": \"www.fakesite.com\"}}\n{\"event_id\": \"6c37b57c460753ce551b16c8795a7be5\", \"event\": \"purchased_item\", \"user_id\": 79, \"event_time\": \"11/26/2023T18:02:45.640282\", \"os\": \"android\", \"properties\": {\"page\": \"/home/\", \"url\": \"www.fakesite.com\"}}\n{\"event_id\": \"848441a9265b47a43ddbae4c5930761f\", \"event\": \"reviewd_item\", \"user_id\": 39, \"event_time\": \"11/26/2023T18:02:46.056072\", \"os\": \"ios\", \"properties\": {\"page\": \"/books/\", \"url\": \"www.fakesite.com\"}}\n{\"event_id\": \"28c1d0e89a1ec79eb3246bffa7a80683\", \"event\": \"reviewd_item\", \"user_id\": 4, \"event_time\": \"11/26/2023T18:02:46.873505\", \"os\": \"android\", \"properties\": {\"page\": \"/books/\", \"url\": \"www.fakesite.com\"}}\n{\"event_id\": \"ccc26321f637c7ef9a24a58710676d30\", \"event\": \"clicked_review\", \"user_id\": 18, \"event_time\": \"11/26/2023T18:02:47.124197\", \"os\": \"ios\", \"properties\": {\"page\": \"/electronics/\", \"url\": \"www.fakesite.com\"}}\n{\"event_id\": \"ae380848502bb8c01a6509a6a4509507\", \"event\": \"purchased_item\", \"user_id\": 7, \"event_time\": \"11/26/2023T18:02:47.635907\", \"os\": \"ios\", \"properties\": {\"page\": \"/food/\", \"url\": \"www.fakesite.com\"}}\n{\"event_id\": \"51afb77238cc277422fb7a1e4f2c8f65\", \"event\": \"reviewd_item\", \"user_id\": 4, \"event_time\": \"11/26/2023T18:02:48.490360\", \"os\": \"web\", \"properties\": {\"page\": \"/electronics/\", \"url\": \"www.fakesite.com\"}}\n{\"event_id\": \"a1fdc2d7c28160f4dde78544e08f4638\", \"event\": \"clicked_review\", \"user_id\": 52, \"event_time\": \"11/26/2023T18:02:48.659705\", \"os\": \"android\", \"properties\": {\"page\": \"/home/\", \"url\": \"www.fakesite.com\"}}\n{\"event_id\": \"282b238df8914a505938c0353c482053\", \"event\": \"reviewd_item\", \"user_id\": 31, \"event_time\": \"11/26/2023T18:02:49.289825\", \"os\": \"web\", \"properties\": {\"page\": \"/books/\", \"url\": \"www.fakesite.com\"}}\n{\"event_id\": \"74fef311f703337825b3784c1aa4b52f\", \"event\": \"entered_payment_method\", \"user_id\": 100, \"event_time\": \"11/26/2023T18:02:49.953531\", \"os\": \"android\", \"properties\": {\"page\": \"/electronics/\", \"url\": \"www.fakesite.com\"}}\n{\"event_id\": \"c9b9652a32b19cd767eb3e38c5e0446c\", \"event\": \"purchased_item\", \"user_id\": 42, \"event_time\": \"11/26/2023T18:02:50.498416\", \"os\": \"ios\", \"properties\": {\"page\": \"/electronics/\", \"url\": \"www.fakesite.com\"}}\n{\"event_id\": \"905362b2e40aeb95fb8e603d93a9dc6a\", \"event\": \"entered_payment_method\", \"user_id\": 4, \"event_time\": \"11/26/2023T18:02:51.252611\", \"os\": \"web\", \"properties\": {\"page\": \"/food/\", \"url\": \"www.fakesite.com\"}}\n{\"event_id\": \"cd7d552e769cbd767f5cfb147658aaa9\", \"event\": \"clicked_review\", \"user_id\": 95, \"event_time\": \"11/26/2023T18:02:52.245535\", \"os\": \"android\", \"properties\": {\"page\": \"/apparal/\", \"url\": \"www.fakesite.com\"}}\n{\"event_id\": \"a72d1603e5dce2a334cefd18c9d9e3d4\", \"event\": \"clicked_review\", \"user_id\": 94, \"event_time\": \"11/26/2023T18:02:52.490696\", \"os\": \"web\", \"properties\": {\"page\": \"/apparal/\", \"url\": \"www.fakesite.com\"}}\n{\"event_id\": \"b4b6d7f679d46719b8f721b65cb1379f\", \"event\": \"liked_item\", \"user_id\": 97, \"event_time\": \"11/26/2023T18:02:52.624204\", \"os\": \"web\", \"properties\": {\"page\": \"/books/\", \"url\": \"www.fakesite.com\"}}\n{\"event_id\": \"51088f8bad45652b8ad06a9d9106a83e\", \"event\": \"purchased_item\", \"user_id\": 50, \"event_time\": \"11/26/2023T18:02:53.518798\", \"os\": \"web\", \"properties\": {\"page\": \"/home/\", \"url\": \"www.fakesite.com\"}}\n{\"event_id\": \"69ab16e98bf3addad4493263a5476cbb\", \"event\": \"entered_payment_method\", \"user_id\": 65, \"event_time\": \"11/26/2023T18:02:54.255185\", \"os\": \"web\", \"properties\": {\"page\": \"/food/\", \"url\": \"www.fakesite.com\"}}\n{\"event_id\": \"c1aa2b4b7829406c15a0657eaad86575\", \"event\": \"clicked_item_description\", \"user_id\": 16, \"event_time\": \"11/26/2023T18:02:55.017743\", \"os\": \"web\", \"properties\": {\"page\": \"/electronics/\", \"url\": \"www.fakesite.com\"}}\n{\"event_id\": \"aef2e70aec5bf5286076e86a6b5a8e9b\", \"event\": \"purchased_item\", \"user_id\": 1, \"event_time\": \"11/26/2023T18:02:55.483506\", \"os\": \"ios\", \"properties\": {\"page\": \"/electronics/\", \"url\": \"www.fakesite.com\"}}\n{\"event_id\": \"16cb0dc1182dd988604315b411a71f79\", \"event\": \"reviewd_item\", \"user_id\": 90, \"event_time\": \"11/26/2023T18:02:55.968790\", \"os\": \"web\", \"properties\": {\"page\": \"/books/\", \"url\": \"www.fakesite.com\"}}\n{\"event_id\": \"ec150c68f16374fc83aa4cf771d3a7f5\", \"event\": \"clicked_item_description\", \"user_id\": 94, \"event_time\": \"11/26/2023T18:02:56.761042\", \"os\": \"ios\", \"properties\": {\"page\": \"/electronics/\", \"url\": \"www.fakesite.com\"}}\n{\"event_id\": \"7991853248efa30c118f1fadf9ad6a7a\", \"event\": \"clicked_review\", \"user_id\": 32, \"event_time\": \"11/26/2023T18:02:57.390814\", \"os\": \"web\", \"properties\": {\"page\": \"/electronics/\", \"url\": \"www.fakesite.com\"}}\n{\"event_id\": \"afeaab60875cc31b2e91cd4cf9f5880f\", \"event\": \"purchased_item\", \"user_id\": 46, \"event_time\": \"11/26/2023T18:02:58.104701\", \"os\": \"android\", \"properties\": {\"page\": \"/home/\", \"url\": \"www.fakesite.com\"}}\n{\"event_id\": \"9ed914414c9e8b294c550b514a6ac1b2\", \"event\": \"entered_payment_method\", \"user_id\": 18, \"event_time\": \"11/26/2023T18:02:58.827747\", \"os\": \"web\", \"properties\": {\"page\": \"/books/\", \"url\": \"www.fakesite.com\"}}\n{\"event_id\": \"c3abadd0bf4a2f0887a8c7c11b2ecd1f\", \"event\": \"clicked_review\", \"user_id\": 36, \"event_time\": \"11/26/2023T18:02:59.738163\", \"os\": \"web\", \"properties\": {\"page\": \"/electronics/\", \"url\": \"www.fakesite.com\"}}\n{\"event_id\": \"1c1a836c22db8a96a6d6a8fd3f2e1ffa\", \"event\": \"entered_payment_method\", \"user_id\": 34, \"event_time\": \"11/26/2023T18:03:00.136816\", \"os\": \"ios\", \"properties\": {\"page\": \"/apparal/\", \"url\": \"www.fakesite.com\"}}\n{\"event_id\": \"5f6310abd9ca0ae11389631084e17c1a\", \"event\": \"liked_item\", \"user_id\": 50, \"event_time\": \"11/26/2023T18:03:00.531785\", \"os\": \"android\", \"properties\": {\"page\": \"/home/\", \"url\": \"www.fakesite.com\"}}\n{\"event_id\": \"08280c9d8594ba6f57c4f603d1d8ad58\", \"event\": \"purchased_item\", \"user_id\": 36, \"event_time\": \"11/26/2023T18:03:01.314798\", \"os\": \"ios\", \"properties\": {\"page\": \"/electronics/\", \"url\": \"www.fakesite.com\"}}\n{\"event_id\": \"43a7a297d1fe1ad9f7dd84279bc91c35\", \"event\": \"reviewd_item\", \"user_id\": 13, \"event_time\": \"11/26/2023T18:03:02.340083\", \"os\": \"android\", \"properties\": {\"page\": \"/electronics/\", \"url\": \"www.fakesite.com\"}}\n{\"event_id\": \"58cd4ed57a91dfc7bb3a7118e4cd5c79\", \"event\": \"entered_payment_method\", \"user_id\": 53, \"event_time\": \"11/26/2023T18:03:03.237462\", \"os\": \"android\", \"properties\": {\"page\": \"/food/\", \"url\": \"www.fakesite.com\"}}\n{\"event_id\": \"e7b9757ee290db1496c36ed9fb4918b9\", \"event\": \"reviewd_item\", \"user_id\": 37, \"event_time\": \"11/26/2023T18:03:03.611322\", \"os\": \"web\", \"properties\": {\"page\": \"/books/\", \"url\": \"www.fakesite.com\"}}\n{\"event_id\": \"bb07db81a80b9ade414bc8eff4376500\", \"event\": \"entered_payment_method\", \"user_id\": 75, \"event_time\": \"11/26/2023T18:03:04.211976\", \"os\": \"android\", \"properties\": {\"page\": \"/food/\", \"url\": \"www.fakesite.com\"}}\n{\"event_id\": \"1aa1d9e919656237f3640017bca84a41\", \"event\": \"purchased_item\", \"user_id\": 19, \"event_time\": \"11/26/2023T18:03:04.477168\", \"os\": \"web\", \"properties\": {\"page\": \"/apparal/\", \"url\": \"www.fakesite.com\"}}\n{\"event_id\": \"9151d6545d0e6a9d1024505aefba9320\", \"event\": \"entered_payment_method\", \"user_id\": 47, \"event_time\": \"11/26/2023T18:03:05.206462\", \"os\": \"android\", \"properties\": {\"page\": \"/books/\", \"url\": \"www.fakesite.com\"}}\n{\"event_id\": \"b1d89c9acfc56b0474517cffad2e80d1\", \"event\": \"clicked_item_description\", \"user_id\": 39, \"event_time\": \"11/26/2023T18:03:06.084563\", \"os\": \"ios\", \"properties\": {\"page\": \"/home/\", \"url\": \"www.fakesite.com\"}}\n{\"event_id\": \"a6a9aea92f9e6f33b4b4cd581d6ce389\", \"event\": \"liked_item\", \"user_id\": 6, \"event_time\": \"11/26/2023T18:03:07.161642\", \"os\": \"web\", \"properties\": {\"page\": \"/home/\", \"url\": \"www.fakesite.com\"}}\n{\"event_id\": \"a2a66453d1242725cf4dcbb5a4975f38\", \"event\": \"clicked_item_description\", \"user_id\": 80, \"event_time\": \"11/26/2023T18:03:07.322079\", \"os\": \"web\", \"properties\": {\"page\": \"/apparal/\", \"url\": \"www.fakesite.com\"}}\n{\"event_id\": \"89184767e0870c797455cfe181f6adf3\", \"event\": \"reviewd_item\", \"user_id\": 43, \"event_time\": \"11/26/2023T18:03:07.897060\", \"os\": \"web\", \"properties\": {\"page\": \"/books/\", \"url\": \"www.fakesite.com\"}}\n{\"event_id\": \"6e25475b2fbe37e897c3c9f6f15a4849\", \"event\": \"entered_payment_method\", \"user_id\": 88, \"event_time\": \"11/26/2023T18:03:08.363138\", \"os\": \"web\", \"properties\": {\"page\": \"/electronics/\", \"url\": \"www.fakesite.com\"}}\n{\"event_id\": \"50f65ec467e5d90bba11fb1ea0478390\", \"event\": \"reviewd_item\", \"user_id\": 82, \"event_time\": \"11/26/2023T18:03:09.269032\", \"os\": \"android\", \"properties\": {\"page\": \"/electronics/\", \"url\": \"www.fakesite.com\"}}\n{\"event_id\": \"ee37572445ecfcb447268ba8552b604c\", \"event\": \"clicked_item_description\", \"user_id\": 71, \"event_time\": \"11/26/2023T18:03:09.537695\", \"os\": \"ios\", \"properties\": {\"page\": \"/books/\", \"url\": \"www.fakesite.com\"}}\n{\"event_id\": \"e098b7ce3e082cbbe574f515a7015f02\", \"event\": \"reviewd_item\", \"user_id\": 81, \"event_time\": \"11/26/2023T18:03:10.637002\", \"os\": \"web\", \"properties\": {\"page\": \"/home/\", \"url\": \"www.fakesite.com\"}}\n{\"event_id\": \"6fccfa20bfafc857cdffdb5c4ed82d29\", \"event\": \"clicked_item_description\", \"user_id\": 93, \"event_time\": \"11/26/2023T18:03:11.029985\", \"os\": \"web\", \"properties\": {\"page\": \"/home/\", \"url\": \"www.fakesite.com\"}}\n{\"event_id\": \"df34ca2b38af70dc40f5a068b1ead20c\", \"event\": \"clicked_item_description\", \"user_id\": 90, \"event_time\": \"11/26/2023T18:03:11.681010\", \"os\": \"android\", \"properties\": {\"page\": \"/apparal/\", \"url\": \"www.fakesite.com\"}}\n{\"event_id\": \"b1e03223ed6090ce6af983ab84cfcb1d\", \"event\": \"clicked_review\", \"user_id\": 95, \"event_time\": \"11/26/2023T18:03:12.647930\", \"os\": \"web\", \"properties\": {\"page\": \"/books/\", \"url\": \"www.fakesite.com\"}}\n{\"event_id\": \"4645a3cb7d87c3a46a2457cea485e5e1\", \"event\": \"entered_payment_method\", \"user_id\": 1, \"event_time\": \"11/26/2023T18:03:13.363775\", \"os\": \"android\", \"properties\": {\"page\": \"/apparal/\", \"url\": \"www.fakesite.com\"}}\n{\"event_id\": \"6187a65b355d5eb18eee6cceb0cc8eb0\", \"event\": \"reviewd_item\", \"user_id\": 35, \"event_time\": \"11/26/2023T18:03:13.660820\", \"os\": \"ios\", \"properties\": {\"page\": \"/electronics/\", \"url\": \"www.fakesite.com\"}}\n{\"event_id\": \"b05b7900afed5a2fa934cc47bba17560\", \"event\": \"clicked_review\", \"user_id\": 17, \"event_time\": \"11/26/2023T18:03:14.061065\", \"os\": \"android\", \"properties\": {\"page\": \"/home/\", \"url\": \"www.fakesite.com\"}}\n{\"event_id\": \"573aef12939cb191a9eb72b37154ccd3\", \"event\": \"entered_payment_method\", \"user_id\": 15, \"event_time\": \"11/26/2023T18:03:14.941373\", \"os\": \"android\", \"properties\": {\"page\": \"/food/\", \"url\": \"www.fakesite.com\"}}\n{\"event_id\": \"cf593c2ef3cf8818e3f92008f02cc68a\", \"event\": \"clicked_item_description\", \"user_id\": 33, \"event_time\": \"11/26/2023T18:03:15.168836\", \"os\": \"ios\", \"properties\": {\"page\": \"/food/\", \"url\": \"www.fakesite.com\"}}\n{\"event_id\": \"1741a6bac422084c774afa03495360ee\", \"event\": \"clicked_review\", \"user_id\": 53, \"event_time\": \"11/26/2023T18:03:15.715097\", \"os\": \"android\", \"properties\": {\"page\": \"/home/\", \"url\": \"www.fakesite.com\"}}\n{\"event_id\": \"9ce3f713e1847fad595ad038a43e0858\", \"event\": \"purchased_item\", \"user_id\": 74, \"event_time\": \"11/26/2023T18:03:16.599365\", \"os\": \"android\", \"properties\": {\"page\": \"/home/\", \"url\": \"www.fakesite.com\"}}\n{\"event_id\": \"a35fac8f6006e638f82b32116cd8457b\", \"event\": \"entered_payment_method\", \"user_id\": 83, \"event_time\": \"11/26/2023T18:03:17.013948\", \"os\": \"ios\", \"properties\": {\"page\": \"/electronics/\", \"url\": \"www.fakesite.com\"}}\n{\"event_id\": \"3b3188ac13451012c0feca49978029bd\", \"event\": \"clicked_item_description\", \"user_id\": 9, \"event_time\": \"11/26/2023T18:03:17.133935\", \"os\": \"web\", \"properties\": {\"page\": \"/food/\", \"url\": \"www.fakesite.com\"}}\n{\"event_id\": \"eab5428d7dbf91433afae75186950ce1\", \"event\": \"clicked_item_description\", \"user_id\": 70, \"event_time\": \"11/26/2023T18:03:17.957325\", \"os\": \"ios\", \"properties\": {\"page\": \"/home/\", \"url\": \"www.fakesite.com\"}}\n{\"event_id\": \"2c991b75f87d98ba32bf08540ac0b531\", \"event\": \"purchased_item\", \"user_id\": 69, \"event_time\": \"11/26/2023T18:03:18.560591\", \"os\": \"ios\", \"properties\": {\"page\": \"/books/\", \"url\": \"www.fakesite.com\"}}\n{\"event_id\": \"ef2d0b8727801197d3a625f07e4fb0c5\", \"event\": \"clicked_item_description\", \"user_id\": 9, \"event_time\": \"11/26/2023T18:03:19.646208\", \"os\": \"ios\", \"properties\": {\"page\": \"/food/\", \"url\": \"www.fakesite.com\"}}\n{\"event_id\": \"48d92c788a60c0b57eca6d6101bb4c6e\", \"event\": \"purchased_item\", \"user_id\": 96, \"event_time\": \"11/26/2023T18:03:20.740582\", \"os\": \"android\", \"properties\": {\"page\": \"/electronics/\", \"url\": \"www.fakesite.com\"}}\n{\"event_id\": \"a79ffccd53cea78b48b172c45527b406\", \"event\": \"entered_payment_method\", \"user_id\": 9, \"event_time\": \"11/26/2023T18:03:21.704219\", \"os\": \"ios\", \"properties\": {\"page\": \"/electronics/\", \"url\": \"www.fakesite.com\"}}\n{\"event_id\": \"66c919fc43c8ea20f877a38f6b4b9854\", \"event\": \"reviewd_item\", \"user_id\": 9, \"event_time\": \"11/26/2023T18:03:21.940272\", \"os\": \"ios\", \"properties\": {\"page\": \"/food/\", \"url\": \"www.fakesite.com\"}}\n{\"event_id\": \"762ddcc1f4f04e395f009fa505f9a913\", \"event\": \"clicked_review\", \"user_id\": 94, \"event_time\": \"11/26/2023T18:03:22.321239\", \"os\": \"ios\", \"properties\": {\"page\": \"/apparal/\", \"url\": \"www.fakesite.com\"}}\n{\"event_id\": \"a54f9a19d4fcfdde4171b3de121df182\", \"event\": \"entered_payment_method\", \"user_id\": 84, \"event_time\": \"11/26/2023T18:03:22.919818\", \"os\": \"android\", \"properties\": {\"page\": \"/books/\", \"url\": \"www.fakesite.com\"}}\n{\"event_id\": \"2d1c8e759d61e777b9bb37d54fe953ff\", \"event\": \"purchased_item\", \"user_id\": 7, \"event_time\": \"11/26/2023T18:03:23.079862\", \"os\": \"android\", \"properties\": {\"page\": \"/apparal/\", \"url\": \"www.fakesite.com\"}}\n{\"event_id\": \"ebede30c278d531d016f4aa54f6fa1cc\", \"event\": \"clicked_review\", \"user_id\": 16, \"event_time\": \"11/26/2023T18:03:23.685153\", \"os\": \"ios\", \"properties\": {\"page\": \"/electronics/\", \"url\": \"www.fakesite.com\"}}\n{\"event_id\": \"1b642d89bfde7664ef8efbd975d4f0b6\", \"event\": \"purchased_item\", \"user_id\": 9, \"event_time\": \"11/26/2023T18:03:24.622292\", \"os\": \"ios\", \"properties\": {\"page\": \"/home/\", \"url\": \"www.fakesite.com\"}}\n{\"event_id\": \"3e7cd10107fa5f5262a0801b0f76838a\", \"event\": \"reviewd_item\", \"user_id\": 5, \"event_time\": \"11/26/2023T18:03:24.737358\", \"os\": \"android\", \"properties\": {\"page\": \"/electronics/\", \"url\": \"www.fakesite.com\"}}\n{\"event_id\": \"6c44abfa9e273d80f8022eab32fe1054\", \"event\": \"purchased_item\", \"user_id\": 7, \"event_time\": \"11/26/2023T18:03:25.755815\", \"os\": \"ios\", \"properties\": {\"page\": \"/home/\", \"url\": \"www.fakesite.com\"}}\n{\"event_id\": \"773818299b243fa4217d7bb858076026\", \"event\": \"clicked_item_description\", \"user_id\": 86, \"event_time\": \"11/26/2023T18:03:26.481830\", \"os\": \"android\", \"properties\": {\"page\": \"/food/\", \"url\": \"www.fakesite.com\"}}\n{\"event_id\": \"1aa400e5bde53ecbf627a39ec4671dec\", \"event\": \"clicked_item_description\", \"user_id\": 25, \"event_time\": \"11/26/2023T18:03:26.948401\", \"os\": \"ios\", \"properties\": {\"page\": \"/food/\", \"url\": \"www.fakesite.com\"}}\n{\"event_id\": \"223035f462a1be5f2a3e106226af12fc\", \"event\": \"liked_item\", \"user_id\": 92, \"event_time\": \"11/26/2023T18:03:27.313375\", \"os\": \"ios\", \"properties\": {\"page\": \"/home/\", \"url\": \"www.fakesite.com\"}}\n{\"event_id\": \"968be10807bf491790da9f0503a59d45\", \"event\": \"reviewd_item\", \"user_id\": 80, \"event_time\": \"11/26/2023T18:03:27.982031\", \"os\": \"ios\", \"properties\": {\"page\": \"/apparal/\", \"url\": \"www.fakesite.com\"}}\n{\"event_id\": \"2941215555a2ea13695bbf83bcb48519\", \"event\": \"purchased_item\", \"user_id\": 69, \"event_time\": \"11/26/2023T18:03:29.076243\", \"os\": \"web\", \"properties\": {\"page\": \"/home/\", \"url\": \"www.fakesite.com\"}}\n{\"event_id\": \"2a8871526725640b81d5066028a9fa77\", \"event\": \"purchased_item\", \"user_id\": 70, \"event_time\": \"11/26/2023T18:03:29.213528\", \"os\": \"android\", \"properties\": {\"page\": \"/home/\", \"url\": \"www.fakesite.com\"}}\n{\"event_id\": \"022108a4b98e2771b70564654978a43e\", \"event\": \"entered_payment_method\", \"user_id\": 6, \"event_time\": \"11/26/2023T18:03:30.004116\", \"os\": \"android\", \"properties\": {\"page\": \"/home/\", \"url\": \"www.fakesite.com\"}}\n{\"event_id\": \"3cbf75cb4603aabec56247616411fa20\", \"event\": \"purchased_item\", \"user_id\": 27, \"event_time\": \"11/26/2023T18:03:30.321178\", \"os\": \"web\", \"properties\": {\"page\": \"/apparal/\", \"url\": \"www.fakesite.com\"}}\n{\"event_id\": \"3621309e8b1c166d2a8efd8c2de6ab98\", \"event\": \"reviewd_item\", \"user_id\": 1, \"event_time\": \"11/26/2023T18:03:31.235824\", \"os\": \"ios\", \"properties\": {\"page\": \"/apparal/\", \"url\": \"www.fakesite.com\"}}\n{\"event_id\": \"884138df065dd658408cd68be27ede2f\", \"event\": \"liked_item\", \"user_id\": 15, \"event_time\": \"11/26/2023T18:03:31.381790\", \"os\": \"ios\", \"properties\": {\"page\": \"/books/\", \"url\": \"www.fakesite.com\"}}\n{\"event_id\": \"4ca93d106e00e0b904046607c75529d9\", \"event\": \"purchased_item\", \"user_id\": 19, \"event_time\": \"11/26/2023T18:03:32.105060\", \"os\": \"ios\", \"properties\": {\"page\": \"/apparal/\", \"url\": \"www.fakesite.com\"}}\n{\"event_id\": \"96968b02178352ccd44ca656ce5b7bef\", \"event\": \"clicked_item_description\", \"user_id\": 78, \"event_time\": \"11/26/2023T18:03:32.664374\", \"os\": \"android\", \"properties\": {\"page\": \"/apparal/\", \"url\": \"www.fakesite.com\"}}\n{\"event_id\": \"3264ab42b0ab11e43546c9520cd5a9fd\", \"event\": \"purchased_item\", \"user_id\": 15, \"event_time\": \"11/26/2023T18:03:33.559776\", \"os\": \"web\", \"properties\": {\"page\": \"/books/\", \"url\": \"www.fakesite.com\"}}\n{\"event_id\": \"805d0bceeb7a0d7785a7b3f53f7e2ede\", \"event\": \"purchased_item\", \"user_id\": 78, \"event_time\": \"11/26/2023T18:03:34.625061\", \"os\": \"android\", \"properties\": {\"page\": \"/electronics/\", \"url\": \"www.fakesite.com\"}}\n{\"event_id\": \"4da87596b7b95b2468e19b3dad55e88b\", \"event\": \"clicked_item_description\", \"user_id\": 65, \"event_time\": \"11/26/2023T18:03:34.725223\", \"os\": \"android\", \"properties\": {\"page\": \"/food/\", \"url\": \"www.fakesite.com\"}}\n{\"event_id\": \"7dc5fd9028f83209762a6930016aea39\", \"event\": \"liked_item\", \"user_id\": 90, \"event_time\": \"11/26/2023T18:03:35.813259\", \"os\": \"web\", \"properties\": {\"page\": \"/apparal/\", \"url\": \"www.fakesite.com\"}}\n{\"event_id\": \"bbc57f8d7b9bd841dcf3275c70c12989\", \"event\": \"purchased_item\", \"user_id\": 40, \"event_time\": \"11/26/2023T18:03:36.030687\", \"os\": \"android\", \"properties\": {\"page\": \"/electronics/\", \"url\": \"www.fakesite.com\"}}\n{\"event_id\": \"958778623e365cc4d76730edb6df61da\", \"event\": \"reviewd_item\", \"user_id\": 55, \"event_time\": \"11/26/2023T18:03:36.211730\", \"os\": \"ios\", \"properties\": {\"page\": \"/electronics/\", \"url\": \"www.fakesite.com\"}}\n{\"event_id\": \"cf5a5b46f2745812912780b853bb414b\", \"event\": \"reviewd_item\", \"user_id\": 68, \"event_time\": \"11/26/2023T18:03:36.351131\", \"os\": \"web\", \"properties\": {\"page\": \"/apparal/\", \"url\": \"www.fakesite.com\"}}\n{\"event_id\": \"2aef2b8fd4e78a9433a347105e4e749d\", \"event\": \"entered_payment_method\", \"user_id\": 85, \"event_time\": \"11/26/2023T18:03:36.459245\", \"os\": \"web\", \"properties\": {\"page\": \"/home/\", \"url\": \"www.fakesite.com\"}}\n{\"event_id\": \"4c37273808c81c833a304c156e17b8bd\", \"event\": \"purchased_item\", \"user_id\": 32, \"event_time\": \"11/26/2023T18:03:37.556861\", \"os\": \"ios\", \"properties\": {\"page\": \"/apparal/\", \"url\": \"www.fakesite.com\"}}\n{\"event_id\": \"4f119b534305318f6f7623e8212771c6\", \"event\": \"liked_item\", \"user_id\": 67, \"event_time\": \"11/26/2023T18:03:37.793274\", \"os\": \"ios\", \"properties\": {\"page\": \"/food/\", \"url\": \"www.fakesite.com\"}}\n{\"event_id\": \"bb0f74528ac1e6a0f41bd1f67fb7ac91\", \"event\": \"clicked_review\", \"user_id\": 91, \"event_time\": \"11/26/2023T18:03:38.180288\", \"os\": \"android\", \"properties\": {\"page\": \"/books/\", \"url\": \"www.fakesite.com\"}}\n{\"event_id\": \"deaed0d215dce7cc5794829f61dccfc7\", \"event\": \"reviewd_item\", \"user_id\": 5, \"event_time\": \"11/26/2023T18:03:38.432184\", \"os\": \"android\", \"properties\": {\"page\": \"/home/\", \"url\": \"www.fakesite.com\"}}\n{\"event_id\": \"deab51e76938f5d3a2bd54cb62a61cbd\", \"event\": \"clicked_review\", \"user_id\": 25, \"event_time\": \"11/26/2023T18:03:39.101548\", \"os\": \"ios\", \"properties\": {\"page\": \"/home/\", \"url\": \"www.fakesite.com\"}}\n{\"event_id\": \"2d23aa2e840139d98107f4a55433b4aa\", \"event\": \"liked_item\", \"user_id\": 59, \"event_time\": \"11/2\n\n*** WARNING: max output size exceeded, skipping output. ***\n\noid\", \"properties\": {\"page\": \"/apparal/\", \"url\": \"www.fakesite.com\"}}\n{\"event_id\": \"ce455dcb32439a89db6b1d4bca152811\", \"event\": \"liked_item\", \"user_id\": 1, \"event_time\": \"11/26/2023T18:11:16.350440\", \"os\": \"ios\", \"properties\": {\"page\": \"/electronics/\", \"url\": \"www.fakesite.com\"}}\n{\"event_id\": \"04a16c13c4047f71b78b22b74863cea2\", \"event\": \"purchased_item\", \"user_id\": 3, \"event_time\": \"11/26/2023T18:11:17.105483\", \"os\": \"android\", \"properties\": {\"page\": \"/food/\", \"url\": \"www.fakesite.com\"}}\n{\"event_id\": \"6daa6910382b6f0c9f7b2b6f2ed3b982\", \"event\": \"entered_payment_method\", \"user_id\": 17, \"event_time\": \"11/26/2023T18:11:17.643339\", \"os\": \"android\", \"properties\": {\"page\": \"/electronics/\", \"url\": \"www.fakesite.com\"}}\n{\"event_id\": \"c57ab0ec769751aa5a5720e8c1b79cb7\", \"event\": \"clicked_item_description\", \"user_id\": 15, \"event_time\": \"11/26/2023T18:11:18.567909\", \"os\": \"android\", \"properties\": {\"page\": \"/home/\", \"url\": \"www.fakesite.com\"}}\n{\"event_id\": \"d3d1b926d6a11cd5659daad58d169276\", \"event\": \"clicked_item_description\", \"user_id\": 25, \"event_time\": \"11/26/2023T18:11:18.695150\", \"os\": \"ios\", \"properties\": {\"page\": \"/electronics/\", \"url\": \"www.fakesite.com\"}}\n{\"event_id\": \"0e12eb452604d5c12271bf5deac998b2\", \"event\": \"entered_payment_method\", \"user_id\": 34, \"event_time\": \"11/26/2023T18:11:19.578740\", \"os\": \"ios\", \"properties\": {\"page\": \"/electronics/\", \"url\": \"www.fakesite.com\"}}\n{\"event_id\": \"43704eb136e355250eeaf382fd679c81\", \"event\": \"clicked_item_description\", \"user_id\": 50, \"event_time\": \"11/26/2023T18:11:20.191868\", \"os\": \"ios\", \"properties\": {\"page\": \"/apparal/\", \"url\": \"www.fakesite.com\"}}\n{\"event_id\": \"19537eb97a4204bc8a06a252df7d04ec\", \"event\": \"reviewd_item\", \"user_id\": 55, \"event_time\": \"11/26/2023T18:11:20.781410\", \"os\": \"ios\", \"properties\": {\"page\": \"/food/\", \"url\": \"www.fakesite.com\"}}\n{\"event_id\": \"d363b9a415c3bfc4a0beca21cb0a8983\", \"event\": \"entered_payment_method\", \"user_id\": 8, \"event_time\": \"11/26/2023T18:11:21.108153\", \"os\": \"android\", \"properties\": {\"page\": \"/food/\", \"url\": \"www.fakesite.com\"}}\n{\"event_id\": \"b8b5b3cb26ae9f68d58f138affc35b80\", \"event\": \"clicked_item_description\", \"user_id\": 57, \"event_time\": \"11/26/2023T18:11:22.168667\", \"os\": \"web\", \"properties\": {\"page\": \"/food/\", \"url\": \"www.fakesite.com\"}}\n{\"event_id\": \"5703b897a0caf5de995b6ccae2bae282\", \"event\": \"clicked_review\", \"user_id\": 16, \"event_time\": \"11/26/2023T18:11:23.017981\", \"os\": \"android\", \"properties\": {\"page\": \"/books/\", \"url\": \"www.fakesite.com\"}}\n{\"event_id\": \"1807a8bf1e1230a38e4dcc046d8c0e4d\", \"event\": \"reviewd_item\", \"user_id\": 22, \"event_time\": \"11/26/2023T18:11:23.848405\", \"os\": \"android\", \"properties\": {\"page\": \"/books/\", \"url\": \"www.fakesite.com\"}}\n{\"event_id\": \"706e5763977c5c62de3f558a335aaecc\", \"event\": \"clicked_item_description\", \"user_id\": 23, \"event_time\": \"11/26/2023T18:11:24.098059\", \"os\": \"web\", \"properties\": {\"page\": \"/home/\", \"url\": \"www.fakesite.com\"}}\n{\"event_id\": \"20c12d9ba04e2ebdee5fc055d4105fee\", \"event\": \"clicked_review\", \"user_id\": 2, \"event_time\": \"11/26/2023T18:11:24.308183\", \"os\": \"android\", \"properties\": {\"page\": \"/food/\", \"url\": \"www.fakesite.com\"}}\n{\"event_id\": \"75388db3158aa57349202364a42dea54\", \"event\": \"liked_item\", \"user_id\": 97, \"event_time\": \"11/26/2023T18:11:25.285098\", \"os\": \"android\", \"properties\": {\"page\": \"/electronics/\", \"url\": \"www.fakesite.com\"}}\n{\"event_id\": \"82f8b3fb24445cefa4205e2261ce1104\", \"event\": \"purchased_item\", \"user_id\": 31, \"event_time\": \"11/26/2023T18:11:25.600802\", \"os\": \"android\", \"properties\": {\"page\": \"/food/\", \"url\": \"www.fakesite.com\"}}\n{\"event_id\": \"202cc8d972507606463c9c0e817fff76\", \"event\": \"clicked_item_description\", \"user_id\": 47, \"event_time\": \"11/26/2023T18:11:26.615941\", \"os\": \"web\", \"properties\": {\"page\": \"/food/\", \"url\": \"www.fakesite.com\"}}\n{\"event_id\": \"71e6d907c8f9823b146f7db5b784a9d1\", \"event\": \"clicked_item_description\", \"user_id\": 58, \"event_time\": \"11/26/2023T18:11:26.901913\", \"os\": \"android\", \"properties\": {\"page\": \"/books/\", \"url\": \"www.fakesite.com\"}}\n{\"event_id\": \"45ea95ecef330459068d362f57a9dfbd\", \"event\": \"entered_payment_method\", \"user_id\": 27, \"event_time\": \"11/26/2023T18:11:27.414038\", \"os\": \"web\", \"properties\": {\"page\": \"/apparal/\", \"url\": \"www.fakesite.com\"}}\n{\"event_id\": \"aad7fe0a09ce9f586bcdd6184026a311\", \"event\": \"clicked_item_description\", \"user_id\": 61, \"event_time\": \"11/26/2023T18:11:28.200535\", \"os\": \"ios\", \"properties\": {\"page\": \"/home/\", \"url\": \"www.fakesite.com\"}}\n{\"event_id\": \"655fd4ddc7d5de9726b947de6ab7d5b6\", \"event\": \"clicked_review\", \"user_id\": 10, \"event_time\": \"11/26/2023T18:11:28.560550\", \"os\": \"web\", \"properties\": {\"page\": \"/apparal/\", \"url\": \"www.fakesite.com\"}}\n{\"event_id\": \"7932f1ec16d5e30f1299540d33c52736\", \"event\": \"purchased_item\", \"user_id\": 11, \"event_time\": \"11/26/2023T18:11:28.906325\", \"os\": \"ios\", \"properties\": {\"page\": \"/books/\", \"url\": \"www.fakesite.com\"}}\n{\"event_id\": \"54262460ad22aeac36e039c8a96dff57\", \"event\": \"reviewd_item\", \"user_id\": 46, \"event_time\": \"11/26/2023T18:11:29.142254\", \"os\": \"web\", \"properties\": {\"page\": \"/books/\", \"url\": \"www.fakesite.com\"}}\n{\"event_id\": \"a21e2e952992cdbf86847d6d77670033\", \"event\": \"entered_payment_method\", \"user_id\": 56, \"event_time\": \"11/26/2023T18:11:30.155823\", \"os\": \"android\", \"properties\": {\"page\": \"/books/\", \"url\": \"www.fakesite.com\"}}\n{\"event_id\": \"9fc80a9ff466ad6678c1c19ea1d0ceed\", \"event\": \"purchased_item\", \"user_id\": 80, \"event_time\": \"11/26/2023T18:11:30.753006\", \"os\": \"ios\", \"properties\": {\"page\": \"/food/\", \"url\": \"www.fakesite.com\"}}\n{\"event_id\": \"10f19295cf6cba8b50d3f097a3b742f3\", \"event\": \"liked_item\", \"user_id\": 27, \"event_time\": \"11/26/2023T18:11:31.009030\", \"os\": \"ios\", \"properties\": {\"page\": \"/home/\", \"url\": \"www.fakesite.com\"}}\n{\"event_id\": \"60e9048e9b192aa7d48efd3eae3dbbfd\", \"event\": \"entered_payment_method\", \"user_id\": 17, \"event_time\": \"11/26/2023T18:11:31.538309\", \"os\": \"web\", \"properties\": {\"page\": \"/home/\", \"url\": \"www.fakesite.com\"}}\n{\"event_id\": \"4186c5431f64e4fb9197e87b5ec62f32\", \"event\": \"purchased_item\", \"user_id\": 71, \"event_time\": \"11/26/2023T18:11:31.742138\", \"os\": \"web\", \"properties\": {\"page\": \"/books/\", \"url\": \"www.fakesite.com\"}}\n{\"event_id\": \"8e39014891f9f06e63832ad52fde22d2\", \"event\": \"entered_payment_method\", \"user_id\": 88, \"event_time\": \"11/26/2023T18:11:32.495820\", \"os\": \"ios\", \"properties\": {\"page\": \"/home/\", \"url\": \"www.fakesite.com\"}}\n{\"event_id\": \"90fb4c12cb9b03bb0823579217832dfd\", \"event\": \"entered_payment_method\", \"user_id\": 88, \"event_time\": \"11/26/2023T18:11:33.307218\", \"os\": \"web\", \"properties\": {\"page\": \"/food/\", \"url\": \"www.fakesite.com\"}}\n{\"event_id\": \"0d7f6ba7118c39b5a7e6a8495db6e513\", \"event\": \"entered_payment_method\", \"user_id\": 20, \"event_time\": \"11/26/2023T18:11:33.540768\", \"os\": \"ios\", \"properties\": {\"page\": \"/apparal/\", \"url\": \"www.fakesite.com\"}}\n{\"event_id\": \"01c48bea750624abbf62dd64fe9a2899\", \"event\": \"clicked_item_description\", \"user_id\": 66, \"event_time\": \"11/26/2023T18:11:33.658921\", \"os\": \"ios\", \"properties\": {\"page\": \"/apparal/\", \"url\": \"www.fakesite.com\"}}\n{\"event_id\": \"d39c8b2589eb0117058ffde1c8f31dd5\", \"event\": \"reviewd_item\", \"user_id\": 60, \"event_time\": \"11/26/2023T18:11:34.658951\", \"os\": \"android\", \"properties\": {\"page\": \"/food/\", \"url\": \"www.fakesite.com\"}}\n{\"event_id\": \"a2b2aa68a286d50fd8474d1357407107\", \"event\": \"entered_payment_method\", \"user_id\": 30, \"event_time\": \"11/26/2023T18:11:34.903098\", \"os\": \"android\", \"properties\": {\"page\": \"/food/\", \"url\": \"www.fakesite.com\"}}\n{\"event_id\": \"eda6ec48c301da45132d37e66d914f37\", \"event\": \"liked_item\", \"user_id\": 98, \"event_time\": \"11/26/2023T18:11:35.063494\", \"os\": \"ios\", \"properties\": {\"page\": \"/books/\", \"url\": \"www.fakesite.com\"}}\n{\"event_id\": \"4d37f5feec2fba8e0a2635570018afa6\", \"event\": \"purchased_item\", \"user_id\": 30, \"event_time\": \"11/26/2023T18:11:35.979950\", \"os\": \"android\", \"properties\": {\"page\": \"/food/\", \"url\": \"www.fakesite.com\"}}\n{\"event_id\": \"f091a89b8036ff226f22e47becf6f897\", \"event\": \"reviewd_item\", \"user_id\": 55, \"event_time\": \"11/26/2023T18:11:36.408418\", \"os\": \"android\", \"properties\": {\"page\": \"/electronics/\", \"url\": \"www.fakesite.com\"}}\n{\"event_id\": \"231117aabc53f0d09ae1adb57bdcbe0d\", \"event\": \"clicked_review\", \"user_id\": 5, \"event_time\": \"11/26/2023T18:11:37.176124\", \"os\": \"android\", \"properties\": {\"page\": \"/apparal/\", \"url\": \"www.fakesite.com\"}}\n{\"event_id\": \"e3bc7ecc2c83b5b5844c91cda12a41af\", \"event\": \"clicked_review\", \"user_id\": 71, \"event_time\": \"11/26/2023T18:11:37.348443\", \"os\": \"android\", \"properties\": {\"page\": \"/home/\", \"url\": \"www.fakesite.com\"}}\n{\"event_id\": \"45691bfdde25b1e4425ec53ee41580f0\", \"event\": \"entered_payment_method\", \"user_id\": 3, \"event_time\": \"11/26/2023T18:11:38.271890\", \"os\": \"web\", \"properties\": {\"page\": \"/apparal/\", \"url\": \"www.fakesite.com\"}}\n{\"event_id\": \"a97b70dc75a8cc13d5770f4c7bbdcb46\", \"event\": \"liked_item\", \"user_id\": 1, \"event_time\": \"11/26/2023T18:11:39.134031\", \"os\": \"web\", \"properties\": {\"page\": \"/home/\", \"url\": \"www.fakesite.com\"}}\n{\"event_id\": \"8098fd6534bf1b97c0d794e865a33734\", \"event\": \"clicked_item_description\", \"user_id\": 72, \"event_time\": \"11/26/2023T18:11:40.125021\", \"os\": \"android\", \"properties\": {\"page\": \"/books/\", \"url\": \"www.fakesite.com\"}}\n{\"event_id\": \"171ce03aaa4e40a01bd3f24d5d09a279\", \"event\": \"liked_item\", \"user_id\": 2, \"event_time\": \"11/26/2023T18:11:40.763230\", \"os\": \"ios\", \"properties\": {\"page\": \"/apparal/\", \"url\": \"www.fakesite.com\"}}\n{\"event_id\": \"429630afe84dd846b3324acf85271579\", \"event\": \"clicked_review\", \"user_id\": 43, \"event_time\": \"11/26/2023T18:11:41.722223\", \"os\": \"web\", \"properties\": {\"page\": \"/books/\", \"url\": \"www.fakesite.com\"}}\n{\"event_id\": \"1b76b079f132477971df6198d41ca3d3\", \"event\": \"clicked_item_description\", \"user_id\": 35, \"event_time\": \"11/26/2023T18:11:42.283775\", \"os\": \"android\", \"properties\": {\"page\": \"/apparal/\", \"url\": \"www.fakesite.com\"}}\n{\"event_id\": \"14bd9486a6f1fd834abb2d5c589a9fbc\", \"event\": \"liked_item\", \"user_id\": 67, \"event_time\": \"11/26/2023T18:11:43.047785\", \"os\": \"ios\", \"properties\": {\"page\": \"/home/\", \"url\": \"www.fakesite.com\"}}\n{\"event_id\": \"01abb8a1cd90ea4bcf5e0c238e59eb22\", \"event\": \"clicked_review\", \"user_id\": 54, \"event_time\": \"11/26/2023T18:11:44.008033\", \"os\": \"android\", \"properties\": {\"page\": \"/books/\", \"url\": \"www.fakesite.com\"}}\n{\"event_id\": \"d8e800d4f197397304123f7f76730d36\", \"event\": \"purchased_item\", \"user_id\": 5, \"event_time\": \"11/26/2023T18:11:44.359048\", \"os\": \"web\", \"properties\": {\"page\": \"/apparal/\", \"url\": \"www.fakesite.com\"}}\n{\"event_id\": \"50e0319df3fb46b4c39f6fcbe454517e\", \"event\": \"liked_item\", \"user_id\": 47, \"event_time\": \"11/26/2023T18:11:44.749523\", \"os\": \"android\", \"properties\": {\"page\": \"/electronics/\", \"url\": \"www.fakesite.com\"}}\n{\"event_id\": \"41cd5446108ac16631d71f55714624ae\", \"event\": \"clicked_review\", \"user_id\": 75, \"event_time\": \"11/26/2023T18:11:45.090795\", \"os\": \"android\", \"properties\": {\"page\": \"/apparal/\", \"url\": \"www.fakesite.com\"}}\n{\"event_id\": \"700f76b9d88df6df5c2e23c047301c52\", \"event\": \"entered_payment_method\", \"user_id\": 38, \"event_time\": \"11/26/2023T18:11:46.048047\", \"os\": \"ios\", \"properties\": {\"page\": \"/electronics/\", \"url\": \"www.fakesite.com\"}}\n{\"event_id\": \"235b039ff58fa3083631c1d9925a0647\", \"event\": \"entered_payment_method\", \"user_id\": 62, \"event_time\": \"11/26/2023T18:11:47.109000\", \"os\": \"android\", \"properties\": {\"page\": \"/food/\", \"url\": \"www.fakesite.com\"}}\n{\"event_id\": \"93d1b800844b1bab5840f0ce29add7a8\", \"event\": \"clicked_review\", \"user_id\": 52, \"event_time\": \"11/26/2023T18:11:47.733686\", \"os\": \"ios\", \"properties\": {\"page\": \"/home/\", \"url\": \"www.fakesite.com\"}}\n{\"event_id\": \"b8ddb4018002b293ad70ab739d9b7bbe\", \"event\": \"reviewd_item\", \"user_id\": 98, \"event_time\": \"11/26/2023T18:11:48.353431\", \"os\": \"ios\", \"properties\": {\"page\": \"/apparal/\", \"url\": \"www.fakesite.com\"}}\n{\"event_id\": \"9b58f1511ac0fdafe668f5db8d42c377\", \"event\": \"entered_payment_method\", \"user_id\": 30, \"event_time\": \"11/26/2023T18:11:48.511365\", \"os\": \"ios\", \"properties\": {\"page\": \"/books/\", \"url\": \"www.fakesite.com\"}}\n{\"event_id\": \"811ef28169ec15179961d5dd7c8b0bc3\", \"event\": \"entered_payment_method\", \"user_id\": 1, \"event_time\": \"11/26/2023T18:11:49.289477\", \"os\": \"web\", \"properties\": {\"page\": \"/apparal/\", \"url\": \"www.fakesite.com\"}}\n{\"event_id\": \"4cfadf4f2ad3c29c19413396ae719e7d\", \"event\": \"reviewd_item\", \"user_id\": 11, \"event_time\": \"11/26/2023T18:11:49.484648\", \"os\": \"android\", \"properties\": {\"page\": \"/home/\", \"url\": \"www.fakesite.com\"}}\n{\"event_id\": \"d1a8629c3c3b9ebc11a7cfff0b2ffe58\", \"event\": \"reviewd_item\", \"user_id\": 73, \"event_time\": \"11/26/2023T18:11:49.663716\", \"os\": \"web\", \"properties\": {\"page\": \"/electronics/\", \"url\": \"www.fakesite.com\"}}\n{\"event_id\": \"35437f904e4e54dd879e7cd4b177a7f4\", \"event\": \"clicked_review\", \"user_id\": 32, \"event_time\": \"11/26/2023T18:11:50.248907\", \"os\": \"android\", \"properties\": {\"page\": \"/food/\", \"url\": \"www.fakesite.com\"}}\n{\"event_id\": \"4a5f3d631068f576d71854276537f74f\", \"event\": \"clicked_review\", \"user_id\": 15, \"event_time\": \"11/26/2023T18:11:50.880612\", \"os\": \"web\", \"properties\": {\"page\": \"/electronics/\", \"url\": \"www.fakesite.com\"}}\n{\"event_id\": \"b48e4463c0c0145f596ea1941092bd68\", \"event\": \"clicked_item_description\", \"user_id\": 14, \"event_time\": \"11/26/2023T18:11:51.510124\", \"os\": \"web\", \"properties\": {\"page\": \"/books/\", \"url\": \"www.fakesite.com\"}}\n{\"event_id\": \"e42a1633e4142eeb0b162dd020edb9a0\", \"event\": \"entered_payment_method\", \"user_id\": 4, \"event_time\": \"11/26/2023T18:11:52.113961\", \"os\": \"web\", \"properties\": {\"page\": \"/home/\", \"url\": \"www.fakesite.com\"}}\n{\"event_id\": \"551d46923299c4f214fc9f15d000f80b\", \"event\": \"liked_item\", \"user_id\": 90, \"event_time\": \"11/26/2023T18:11:52.414237\", \"os\": \"android\", \"properties\": {\"page\": \"/home/\", \"url\": \"www.fakesite.com\"}}\n{\"event_id\": \"e1c6739391814475eea3334e33d9a4fe\", \"event\": \"clicked_item_description\", \"user_id\": 6, \"event_time\": \"11/26/2023T18:11:53.026499\", \"os\": \"android\", \"properties\": {\"page\": \"/home/\", \"url\": \"www.fakesite.com\"}}\n{\"event_id\": \"5a66ae817ae0c1687ba06eeb5b3a1645\", \"event\": \"clicked_review\", \"user_id\": 80, \"event_time\": \"11/26/2023T18:11:53.818190\", \"os\": \"ios\", \"properties\": {\"page\": \"/home/\", \"url\": \"www.fakesite.com\"}}\n{\"event_id\": \"5b5827e6240eb744a242a825cf405557\", \"event\": \"entered_payment_method\", \"user_id\": 83, \"event_time\": \"11/26/2023T18:11:54.492578\", \"os\": \"android\", \"properties\": {\"page\": \"/food/\", \"url\": \"www.fakesite.com\"}}\n{\"event_id\": \"8a52175ab0c0e9ddf7a2763cf3d03d8a\", \"event\": \"clicked_item_description\", \"user_id\": 32, \"event_time\": \"11/26/2023T18:11:55.062066\", \"os\": \"android\", \"properties\": {\"page\": \"/books/\", \"url\": \"www.fakesite.com\"}}\n{\"event_id\": \"2d93f993d1e2dc987cd02c4ff8e4c8e1\", \"event\": \"reviewd_item\", \"user_id\": 29, \"event_time\": \"11/26/2023T18:11:55.330697\", \"os\": \"web\", \"properties\": {\"page\": \"/food/\", \"url\": \"www.fakesite.com\"}}\n{\"event_id\": \"426b9f7ae0b7557a01775cbcee7654ab\", \"event\": \"purchased_item\", \"user_id\": 39, \"event_time\": \"11/26/2023T18:11:56.130171\", \"os\": \"ios\", \"properties\": {\"page\": \"/apparal/\", \"url\": \"www.fakesite.com\"}}\n{\"event_id\": \"7652334e4e00fee36533ed504459827f\", \"event\": \"entered_payment_method\", \"user_id\": 96, \"event_time\": \"11/26/2023T18:11:56.789456\", \"os\": \"web\", \"properties\": {\"page\": \"/electronics/\", \"url\": \"www.fakesite.com\"}}\n{\"event_id\": \"b029c33fa07edeea0c2f28afe618ead7\", \"event\": \"reviewd_item\", \"user_id\": 44, \"event_time\": \"11/26/2023T18:11:57.200308\", \"os\": \"web\", \"properties\": {\"page\": \"/books/\", \"url\": \"www.fakesite.com\"}}\n{\"event_id\": \"19dfb380c148c04794f3bb18be9605ce\", \"event\": \"clicked_review\", \"user_id\": 20, \"event_time\": \"11/26/2023T18:11:57.421054\", \"os\": \"android\", \"properties\": {\"page\": \"/books/\", \"url\": \"www.fakesite.com\"}}\n{\"event_id\": \"f4dd0e484d9e98550d963d7561207cee\", \"event\": \"reviewd_item\", \"user_id\": 57, \"event_time\": \"11/26/2023T18:11:58.195609\", \"os\": \"web\", \"properties\": {\"page\": \"/books/\", \"url\": \"www.fakesite.com\"}}\n{\"event_id\": \"b8b25db97c76e1b1a8a86e8bd86a02b3\", \"event\": \"clicked_review\", \"user_id\": 75, \"event_time\": \"11/26/2023T18:11:59.246518\", \"os\": \"android\", \"properties\": {\"page\": \"/books/\", \"url\": \"www.fakesite.com\"}}\n{\"event_id\": \"2180b78410d280628893b0789166b0c8\", \"event\": \"clicked_item_description\", \"user_id\": 42, \"event_time\": \"11/26/2023T18:11:59.536972\", \"os\": \"web\", \"properties\": {\"page\": \"/apparal/\", \"url\": \"www.fakesite.com\"}}\n{\"event_id\": \"04910327e316311c2d69579b703299e4\", \"event\": \"purchased_item\", \"user_id\": 94, \"event_time\": \"11/26/2023T18:11:59.999420\", \"os\": \"android\", \"properties\": {\"page\": \"/books/\", \"url\": \"www.fakesite.com\"}}\n{\"event_id\": \"a8c05ecc7437bc824b830edd3219b444\", \"event\": \"purchased_item\", \"user_id\": 67, \"event_time\": \"11/26/2023T18:12:00.918023\", \"os\": \"android\", \"properties\": {\"page\": \"/food/\", \"url\": \"www.fakesite.com\"}}\n{\"event_id\": \"7825a444b0a46a680c8dee86c3d3f84b\", \"event\": \"reviewd_item\", \"user_id\": 69, \"event_time\": \"11/26/2023T18:12:01.991304\", \"os\": \"android\", \"properties\": {\"page\": \"/apparal/\", \"url\": \"www.fakesite.com\"}}\n{\"event_id\": \"15064aed8cfd0bba7f35c16b4e1993ae\", \"event\": \"purchased_item\", \"user_id\": 56, \"event_time\": \"11/26/2023T18:12:02.637956\", \"os\": \"android\", \"properties\": {\"page\": \"/books/\", \"url\": \"www.fakesite.com\"}}\n{\"event_id\": \"0c1aac3a528c344df7074c7b843eff66\", \"event\": \"reviewd_item\", \"user_id\": 12, \"event_time\": \"11/26/2023T18:12:03.429696\", \"os\": \"android\", \"properties\": {\"page\": \"/apparal/\", \"url\": \"www.fakesite.com\"}}\n{\"event_id\": \"35a525b0aea043bcad8ffc7b88d327eb\", \"event\": \"entered_payment_method\", \"user_id\": 83, \"event_time\": \"11/26/2023T18:12:03.671565\", \"os\": \"ios\", \"properties\": {\"page\": \"/books/\", \"url\": \"www.fakesite.com\"}}\n{\"event_id\": \"fd9808fa7bcaa3ae8eb4f00d0941b1ed\", \"event\": \"reviewd_item\", \"user_id\": 26, \"event_time\": \"11/26/2023T18:12:04.267295\", \"os\": \"ios\", \"properties\": {\"page\": \"/food/\", \"url\": \"www.fakesite.com\"}}\n{\"event_id\": \"6b3900552d6dc755a0bbbedfd7bf6d50\", \"event\": \"clicked_item_description\", \"user_id\": 19, \"event_time\": \"11/26/2023T18:12:05.245947\", \"os\": \"android\", \"properties\": {\"page\": \"/home/\", \"url\": \"www.fakesite.com\"}}\n{\"event_id\": \"c05167c81cf55f0dea5c209c58c6d14f\", \"event\": \"reviewd_item\", \"user_id\": 84, \"event_time\": \"11/26/2023T18:12:05.443524\", \"os\": \"web\", \"properties\": {\"page\": \"/apparal/\", \"url\": \"www.fakesite.com\"}}\n{\"event_id\": \"196eb88fa6971085b3e311ec5006c499\", \"event\": \"entered_payment_method\", \"user_id\": 97, \"event_time\": \"11/26/2023T18:12:05.859586\", \"os\": \"web\", \"properties\": {\"page\": \"/books/\", \"url\": \"www.fakesite.com\"}}\n{\"event_id\": \"e6ea246bdcb75b9a0a224012349b7154\", \"event\": \"entered_payment_method\", \"user_id\": 77, \"event_time\": \"11/26/2023T18:12:06.751210\", \"os\": \"web\", \"properties\": {\"page\": \"/books/\", \"url\": \"www.fakesite.com\"}}\n{\"event_id\": \"89dccaf1775e91b57dc93d7614530725\", \"event\": \"purchased_item\", \"user_id\": 59, \"event_time\": \"11/26/2023T18:12:06.865515\", \"os\": \"web\", \"properties\": {\"page\": \"/home/\", \"url\": \"www.fakesite.com\"}}\n{\"event_id\": \"b3f3ffe89b174e1fadf45241d3a90344\", \"event\": \"reviewd_item\", \"user_id\": 37, \"event_time\": \"11/26/2023T18:12:07.360907\", \"os\": \"ios\", \"properties\": {\"page\": \"/books/\", \"url\": \"www.fakesite.com\"}}\n{\"event_id\": \"dc9c38ef5793dbb077926b4a02e18a28\", \"event\": \"reviewd_item\", \"user_id\": 26, \"event_time\": \"11/26/2023T18:12:07.605721\", \"os\": \"web\", \"properties\": {\"page\": \"/books/\", \"url\": \"www.fakesite.com\"}}\n{\"event_id\": \"1750049944a26b12a91204cbf87d1c26\", \"event\": \"liked_item\", \"user_id\": 92, \"event_time\": \"11/26/2023T18:12:08.667825\", \"os\": \"android\", \"properties\": {\"page\": \"/books/\", \"url\": \"www.fakesite.com\"}}\n{\"event_id\": \"d24448db8d676f251b3e1e9d56433b34\", \"event\": \"clicked_item_description\", \"user_id\": 40, \"event_time\": \"11/26/2023T18:12:09.004484\", \"os\": \"android\", \"properties\": {\"page\": \"/food/\", \"url\": \"www.fakesite.com\"}}\n{\"event_id\": \"47fb127779aad1d4b8ae2bd49123d9ed\", \"event\": \"liked_item\", \"user_id\": 64, \"event_time\": \"11/26/2023T18:12:09.776059\", \"os\": \"ios\", \"properties\": {\"page\": \"/electronics/\", \"url\": \"www.fakesite.com\"}}\n{\"event_id\": \"b44bf18d9f7a783ed3135d3d66d7fa5f\", \"event\": \"liked_item\", \"user_id\": 93, \"event_time\": \"11/26/2023T18:12:10.134294\", \"os\": \"android\", \"properties\": {\"page\": \"/food/\", \"url\": \"www.fakesite.com\"}}\n{\"event_id\": \"35ab4bb5a57ef45dba6f19dbf5ac6186\", \"event\": \"liked_item\", \"user_id\": 36, \"event_time\": \"11/26/2023T18:12:10.346506\", \"os\": \"android\", \"properties\": {\"page\": \"/home/\", \"url\": \"www.fakesite.com\"}}\n{\"event_id\": \"d75b9fcff296c376f4c12db66314a3f4\", \"event\": \"liked_item\", \"user_id\": 59, \"event_time\": \"11/26/2023T18:12:10.943800\", \"os\": \"ios\", \"properties\": {\"page\": \"/food/\", \"url\": \"www.fakesite.com\"}}\n{\"event_id\": \"01737e4918ac12be67e7e4e073db7fed\", \"event\": \"liked_item\", \"user_id\": 41, \"event_time\": \"11/26/2023T18:12:11.507820\", \"os\": \"android\", \"properties\": {\"page\": \"/apparal/\", \"url\": \"www.fakesite.com\"}}\n{\"event_id\": \"f5c90cd0ddb9cce859cc22318f5dc5a8\", \"event\": \"entered_payment_method\", \"user_id\": 7, \"event_time\": \"11/26/2023T18:12:11.929361\", \"os\": \"android\", \"properties\": {\"page\": \"/electronics/\", \"url\": \"www.fakesite.com\"}}\n{\"event_id\": \"9a45c46660f9091acf605448a7b09ecd\", \"event\": \"entered_payment_method\", \"user_id\": 59, \"event_time\": \"11/26/2023T18:12:12.450312\", \"os\": \"ios\", \"properties\": {\"page\": \"/home/\", \"url\": \"www.fakesite.com\"}}\n{\"event_id\": \"81a3d7883467686803de48f6470acdb2\", \"event\": \"reviewd_item\", \"user_id\": 65, \"event_time\": \"11/26/2023T18:12:12.629820\", \"os\": \"ios\", \"properties\": {\"page\": \"/electronics/\", \"url\": \"www.fakesite.com\"}}\n{\"event_id\": \"ec81d68074502577da4d9e8a96e314ac\", \"event\": \"purchased_item\", \"user_id\": 98, \"event_time\": \"11/26/2023T18:12:13.652846\", \"os\": \"android\", \"properties\": {\"page\": \"/home/\", \"url\": \"www.fakesite.com\"}}\n{\"event_id\": \"1a268492ce8cb0112d4c3326ae8a9879\", \"event\": \"clicked_item_description\", \"user_id\": 21, \"event_time\": \"11/26/2023T18:12:13.778777\", \"os\": \"ios\", \"properties\": {\"page\": \"/books/\", \"url\": \"www.fakesite.com\"}}\n{\"event_id\": \"0204c4ffbb1ee296b2279011b1aa2572\", \"event\": \"reviewd_item\", \"user_id\": 78, \"event_time\": \"11/26/2023T18:12:14.550122\", \"os\": \"ios\", \"properties\": {\"page\": \"/books/\", \"url\": \"www.fakesite.com\"}}\n{\"event_id\": \"4770c91ba889d2c2509e56367eb27161\", \"event\": \"liked_item\", \"user_id\": 23, \"event_time\": \"11/26/2023T18:12:14.955162\", \"os\": \"web\", \"properties\": {\"page\": \"/books/\", \"url\": \"www.fakesite.com\"}}\n{\"event_id\": \"58000c82483ce4f03c0139f1c4bbe37e\", \"event\": \"clicked_review\", \"user_id\": 50, \"event_time\": \"11/26/2023T18:12:15.474459\", \"os\": \"ios\", \"properties\": {\"page\": \"/books/\", \"url\": \"www.fakesite.com\"}}\n{\"event_id\": \"d1a6cf19d61140d4b21730cb77160f77\", \"event\": \"clicked_item_description\", \"user_id\": 22, \"event_time\": \"11/26/2023T18:12:16.259363\", \"os\": \"android\", \"properties\": {\"page\": \"/electronics/\", \"url\": \"www.fakesite.com\"}}\n{\"event_id\": \"48806fe95903a58f90e6a8b705238843\", \"event\": \"liked_item\", \"user_id\": 68, \"event_time\": \"11/26/2023T18:12:16.969016\", \"os\": \"android\", \"properties\": {\"page\": \"/home/\", \"url\": \"www.fakesite.com\"}}\n{\"event_id\": \"91ca429c048d452967593cf693e1d7d4\", \"event\": \"purchased_item\", \"user_id\": 83, \"event_time\": \"11/26/2023T18:12:17.163439\", \"os\": \"ios\", \"properties\": {\"page\": \"/apparal/\", \"url\": \"www.fakesite.com\"}}\n{\"event_id\": \"eb3808f5661d780c1a40634931b44c71\", \"event\": \"clicked_item_description\", \"user_id\": 66, \"event_time\": \"11/26/2023T18:12:18.118540\", \"os\": \"ios\", \"properties\": {\"page\": \"/books/\", \"url\": \"www.fakesite.com\"}}\n{\"event_id\": \"2e0230cc8507dbb94e26c8c687031faa\", \"event\": \"reviewd_item\", \"user_id\": 78, \"event_time\": \"11/26/2023T18:12:18.243763\", \"os\": \"web\", \"properties\": {\"page\": \"/food/\", \"url\": \"www.fakesite.com\"}}\n{\"event_id\": \"07441a95112b1e1d2f03e65da05f0920\", \"event\": \"liked_item\", \"user_id\": 33, \"event_time\": \"11/26/2023T18:12:19.260150\", \"os\": \"android\", \"properties\": {\"page\": \"/books/\", \"url\": \"www.fakesite.com\"}}\n{\"event_id\": \"649a3ba00ed9def2a84d8ebd1d34f63b\", \"event\": \"clicked_review\", \"user_id\": 68, \"event_time\": \"11/26/2023T18:12:19.744516\", \"os\": \"ios\", \"properties\": {\"page\": \"/home/\", \"url\": \"www.fakesite.com\"}}\n{\"event_id\": \"db8991fb30beeffe77007818b031aa6e\", \"event\": \"clicked_item_description\", \"user_id\": 60, \"event_time\": \"11/26/2023T18:12:20.502757\", \"os\": \"ios\", \"properties\": {\"page\": \"/home/\", \"url\": \"www.fakesite.com\"}}\n{\"event_id\": \"dd887a789e59dd3bdc315c4635f22cad\", \"event\": \"clicked_item_description\", \"user_id\": 87, \"event_time\": \"11/26/2023T18:12:20.833715\", \"os\": \"web\", \"properties\": {\"page\": \"/electronics/\", \"url\": \"www.fakesite.com\"}}\n{\"event_id\": \"969445b72d303e77faacc0263790a15d\", \"event\": \"purchased_item\", \"user_id\": 64, \"event_time\": \"11/26/2023T18:12:21.120235\", \"os\": \"ios\", \"properties\": {\"page\": \"/food/\", \"url\": \"www.fakesite.com\"}}\n{\"event_id\": \"08fc0003f74d346b28a428522d186b5c\", \"event\": \"clicked_item_description\", \"user_id\": 53, \"event_time\": \"11/26/2023T18:12:21.409888\", \"os\": \"ios\", \"properties\": {\"page\": \"/home/\", \"url\": \"www.fakesite.com\"}}\n{\"event_id\": \"71c94dcee032030716e6b006b61afa29\", \"event\": \"reviewd_item\", \"user_id\": 95, \"event_time\": \"11/26/2023T18:12:22.054449\", \"os\": \"ios\", \"properties\": {\"page\": \"/electronics/\", \"url\": \"www.fakesite.com\"}}\n"
     ]
    }
   ],
   "source": [
    "try:\n",
    "    for _ in range(RECORDS):\n",
    "        event_data_batch = producer.create_batch() \n",
    "        delay = random.uniform(0, MAX_SECONDS_BETWEEN_EVENTS)\n",
    "        time.sleep(delay)\n",
    "        event = {\n",
    "            \"event_id\" : get_event_id(),\n",
    "            \"event\" : get_event(),\n",
    "            \"user_id\": get_user_id(),\n",
    "            \"event_time\" : get_event_time(),\n",
    "            \"os\": get_os(),\n",
    "            \"properties\" : {\n",
    "                \"page\": get_page(),\n",
    "                \"url\" : \"www.fakesite.com\"\n",
    "            }\n",
    "        }\n",
    "\n",
    "        s = json.dumps(event)\n",
    "        print(s)\n",
    "        event_data_batch.add(EventData(s)) # Add event data to the batch.\n",
    "        producer.send_batch(event_data_batch)\n",
    "except KeyboardInterrupt:\n",
    "    #pass\n",
    "    producer.close()\n"
   ]
  }
 ],
 "metadata": {
  "application/vnd.databricks.v1+notebook": {
   "dashboards": [],
   "language": "python",
   "notebookMetadata": {
    "pythonIndentUnit": 4
   },
   "notebookName": "Click Stream Data Simulation",
   "widgets": {}
  }
 },
 "nbformat": 4,
 "nbformat_minor": 0
}
